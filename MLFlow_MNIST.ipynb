{
  "cells": [
    {
      "cell_type": "code",
      "execution_count": 26,
      "metadata": {
        "id": "MOaIWQFKnlZR"
      },
      "outputs": [],
      "source": [
        "import pandas as pd\n",
        "import torch\n",
        "import os\n",
        "import numpy as np\n",
        "import torch.nn as nn\n",
        "import torch.nn.functional as F\n",
        "from torch.optim.lr_scheduler import StepLR #step learning rate\n",
        "from torchvision import datasets, transforms\n",
        "import mlflow\n",
        "import mlflow.pytorch"
      ]
    },
    {
      "cell_type": "code",
      "execution_count": 30,
      "metadata": {
        "id": "BjvRDsc9nlZU"
      },
      "outputs": [],
      "source": [
        "class Config:\n",
        "    EPOCHS = 10\n",
        "    BATCH_SIZE =32\n",
        "    LR = 0.01\n",
        "    DEVICE= 'cuda' if torch.cuda.is_available() else 'cpu'\n",
        "    GAMMA = 0.7\n",
        "    SEED = 42\n",
        "    LOG_INTERVAL = 10\n",
        "    TEST_BATCH_SIZE = 1000\n",
        "    DRY_RUN = True"
      ]
    },
    {
      "cell_type": "code",
      "source": [
        "config = Config()"
      ],
      "metadata": {
        "id": "lQpiXIx6ocVO"
      },
      "execution_count": 31,
      "outputs": []
    },
    {
      "cell_type": "code",
      "source": [
        "class ConvNet(nn.Module):\n",
        "\n",
        "  def __init__(self):\n",
        "\n",
        "    super(ConvNet, self).__init__()\n",
        "    self.conv1 = nn.Conv2d(1,32,3,1)\n",
        "    self.conv2 = nn.Conv2d(32, 64, 3,1)\n",
        "    self.dropout1 = nn.Dropout(0.25)\n",
        "    self.dropout2 = nn.Dropout(0.5)\n",
        "    self.fc1=nn.Linear(9216,128)\n",
        "    self.fc2 = nn.Linear(128, 10)\n",
        "\n",
        "\n",
        "\n",
        "  def forward(self , x):\n",
        "\n",
        "    x = self.conv1(x)\n",
        "    x = F.relu(x)\n",
        "\n",
        "    x = self.conv2(x)\n",
        "    x = F.relu(x)\n",
        "   \n",
        "    x = F.max_pool2d(x,2)\n",
        "    x = self.dropout1(x)\n",
        "\n",
        "    x = torch.flatten(x,1)\n",
        "    x = self.fc1(x)\n",
        "\n",
        "    x=F.relu(x)\n",
        "    x=self.dropout2(x)\n",
        "\n",
        "    x=self.fc2(x)\n",
        "\n",
        "    output = F.log_softmax(x, dim=1)\n",
        "\n",
        "    return output       "
      ],
      "metadata": {
        "id": "4x85gzHsocRv"
      },
      "execution_count": 32,
      "outputs": []
    },
    {
      "cell_type": "code",
      "source": [
        "def train_(config, model, device, train_loader, optimizer, epoch):\n",
        "  model.train()\n",
        "  for batch_idx, (data, target) in enumerate(train_loader):\n",
        "    data, target = data.to(device), target.to(device)\n",
        "    optimizer.zero_grad()\n",
        "    pred = model(data)\n",
        "    loss = F.binary_cross_entropy(pred, target)\n",
        "    loss.backward()\n",
        "    optimizer.step()\n",
        "    if batch_idx % config.LOG_INTERVAL == 0:\n",
        "      print(f\"train epoch: {epoch}[{batch_idx * len(data)}/{len(train_loader.dataset)} ({100.0 * batch_idx/len(train_loader):.0f})]\\t Loss: {loss.item():.6f}\")\n",
        "\n",
        "      if config.DRY_RUN:\n",
        "        break"
      ],
      "metadata": {
        "id": "eMH9Zl4qocOu"
      },
      "execution_count": 33,
      "outputs": []
    },
    {
      "cell_type": "code",
      "source": [
        "def test(model, device, test_loader):\n",
        "  pass"
      ],
      "metadata": {
        "id": "tHm5iehCocId"
      },
      "execution_count": 34,
      "outputs": []
    },
    {
      "cell_type": "code",
      "source": [
        "torch.manual_seed(config.SEED)"
      ],
      "metadata": {
        "colab": {
          "base_uri": "https://localhost:8080/"
        },
        "id": "9icC2ZJMoXeY",
        "outputId": "ec54075e-3286-4149-a061-09bc453b2df3"
      },
      "execution_count": 35,
      "outputs": [
        {
          "output_type": "execute_result",
          "data": {
            "text/plain": [
              "<torch._C.Generator at 0x7fdb83d63530>"
            ]
          },
          "metadata": {},
          "execution_count": 35
        }
      ]
    },
    {
      "cell_type": "code",
      "source": [
        "train_kwargs = {\"batch_size\": config.BATCH_SIZE}\n",
        "test_kwargs = {\"batch_size\": config.TEST_BATCH_SIZE}"
      ],
      "metadata": {
        "id": "QcvhXjbTuOT1"
      },
      "execution_count": 36,
      "outputs": []
    },
    {
      "cell_type": "code",
      "source": [
        "if config.DEVICE ==\"cuda\":\n",
        "  cuda_kwargs = {\"num_workers\":1, \"pin_memory\":True, \"shuffle\":True}\n",
        "  train_kwargs.update(cuda_kwargs)\n",
        "  test_kwargs.update(cuda_kwargs)"
      ],
      "metadata": {
        "id": "xYiT78TsuZZA"
      },
      "execution_count": 37,
      "outputs": []
    },
    {
      "cell_type": "code",
      "source": [
        "trans = transforms.Compose(\n",
        "    [transforms.ToTensor()]\n",
        ")"
      ],
      "metadata": {
        "id": "Bd-vkA4huyDY"
      },
      "execution_count": 38,
      "outputs": []
    },
    {
      "cell_type": "code",
      "source": [
        "train = datasets.MNIST(\"../data\", train = True , download= True, transform=trans)\n",
        "test  = datasets.MNIST(\"../data\", train=False, download=True, transform= trans)\n",
        "\n",
        "train_loader = torch.utils.data.DataLoader(train, **train_kwargs)\n",
        "test_loader = torch.utils.data.DataLoader(test, **test_kwargs)"
      ],
      "metadata": {
        "id": "t8NcuvMzu-2l"
      },
      "execution_count": 73,
      "outputs": []
    },
    {
      "cell_type": "code",
      "source": [
        "from torch.utils.data import DataLoader, Dataset"
      ],
      "metadata": {
        "id": "i1sT0tqV2LsJ"
      },
      "execution_count": 65,
      "outputs": []
    },
    {
      "cell_type": "code",
      "source": [
        "# train=torch.utils.data.DataLoader(datasets.MNIST(\"mnist\",train=True,download=True,transform=transforms.Compose([transforms.ToTensor(),transforms.Normalize((0.1307),(0.3081,) )] ) ), **train_kwargs)"
      ],
      "metadata": {
        "id": "nVhjDFY306ly"
      },
      "execution_count": 66,
      "outputs": []
    },
    {
      "cell_type": "code",
      "source": [
        "# test=torch.utils.data.DataLoader(datasets.MNIST(\"mnist\",train=False,download=False,transform=transforms.Compose([transforms.ToTensor(),transforms.Normalize((0.1307),(0.3081,) )] ) ), **test_kwargs)"
      ],
      "metadata": {
        "id": "BXZ4-oOf18z-"
      },
      "execution_count": 67,
      "outputs": []
    },
    {
      "cell_type": "code",
      "source": [
        "model = ConvNet().to(config.DEVICE)\n",
        "scripted_model = torch.jit.script(model)\n",
        "print(scripted_model)\n",
        "optimizer = torch.optim.Adam(model.parameters(), lr=config.LR)\n",
        "\n",
        "scheduler = StepLR(optimizer, step_size=1, gamma=config.GAMMA)"
      ],
      "metadata": {
        "colab": {
          "base_uri": "https://localhost:8080/"
        },
        "id": "Inm4Clcsvojy",
        "outputId": "a6d16cd4-21d1-4959-8b52-5358539d6f6a"
      },
      "execution_count": 74,
      "outputs": [
        {
          "output_type": "stream",
          "name": "stdout",
          "text": [
            "RecursiveScriptModule(\n",
            "  original_name=ConvNet\n",
            "  (conv1): RecursiveScriptModule(original_name=Conv2d)\n",
            "  (conv2): RecursiveScriptModule(original_name=Conv2d)\n",
            "  (dropout1): RecursiveScriptModule(original_name=Dropout)\n",
            "  (dropout2): RecursiveScriptModule(original_name=Dropout)\n",
            "  (fc1): RecursiveScriptModule(original_name=Linear)\n",
            "  (fc2): RecursiveScriptModule(original_name=Linear)\n",
            ")\n"
          ]
        }
      ]
    },
    {
      "cell_type": "code",
      "source": [
        "for i in train_loader:\n",
        "  print(i[0].shape, i[1].shape)\n",
        "  break"
      ],
      "metadata": {
        "colab": {
          "base_uri": "https://localhost:8080/"
        },
        "id": "2JhIGhrMwW0t",
        "outputId": "bf1d5091-4981-472b-c1e1-5d3c1482fc91"
      },
      "execution_count": 75,
      "outputs": [
        {
          "output_type": "stream",
          "name": "stdout",
          "text": [
            "torch.Size([32, 1, 28, 28]) torch.Size([32])\n"
          ]
        }
      ]
    },
    {
      "cell_type": "code",
      "source": [
        "from torch.utils.data import DataLoader, Dataset"
      ],
      "metadata": {
        "id": "QWvflv5S0cOZ"
      },
      "execution_count": 76,
      "outputs": []
    },
    {
      "cell_type": "code",
      "source": [
        "# #training\n",
        "\n",
        "# for epoch in range(1,config.EPOCHS + 1):\n",
        "#   train(config, model, config.DEVICE, train_loader, optimizer, epoch)\n",
        "#   scheduler.step()"
      ],
      "metadata": {
        "colab": {
          "base_uri": "https://localhost:8080/",
          "height": 226
        },
        "id": "2IUQhpXGwi2_",
        "outputId": "864e405f-efc1-48c1-fba3-8148f562caf8"
      },
      "execution_count": 78,
      "outputs": [
        {
          "output_type": "error",
          "ename": "TypeError",
          "evalue": "ignored",
          "traceback": [
            "\u001b[0;31m---------------------------------------------------------------------------\u001b[0m",
            "\u001b[0;31mTypeError\u001b[0m                                 Traceback (most recent call last)",
            "\u001b[0;32m<ipython-input-78-85b6959db22e>\u001b[0m in \u001b[0;36m<module>\u001b[0;34m()\u001b[0m\n\u001b[1;32m      2\u001b[0m \u001b[0;34m\u001b[0m\u001b[0m\n\u001b[1;32m      3\u001b[0m \u001b[0;32mfor\u001b[0m \u001b[0mepoch\u001b[0m \u001b[0;32min\u001b[0m \u001b[0mrange\u001b[0m\u001b[0;34m(\u001b[0m\u001b[0;36m1\u001b[0m\u001b[0;34m,\u001b[0m\u001b[0mconfig\u001b[0m\u001b[0;34m.\u001b[0m\u001b[0mEPOCHS\u001b[0m \u001b[0;34m+\u001b[0m \u001b[0;36m1\u001b[0m\u001b[0;34m)\u001b[0m\u001b[0;34m:\u001b[0m\u001b[0;34m\u001b[0m\u001b[0;34m\u001b[0m\u001b[0m\n\u001b[0;32m----> 4\u001b[0;31m   \u001b[0mtrain\u001b[0m\u001b[0;34m(\u001b[0m\u001b[0mconfig\u001b[0m\u001b[0;34m,\u001b[0m \u001b[0mmodel\u001b[0m\u001b[0;34m,\u001b[0m \u001b[0mconfig\u001b[0m\u001b[0;34m.\u001b[0m\u001b[0mDEVICE\u001b[0m\u001b[0;34m,\u001b[0m \u001b[0mtrain_loader\u001b[0m\u001b[0;34m,\u001b[0m \u001b[0moptimizer\u001b[0m\u001b[0;34m,\u001b[0m \u001b[0mepoch\u001b[0m\u001b[0;34m)\u001b[0m\u001b[0;34m\u001b[0m\u001b[0;34m\u001b[0m\u001b[0m\n\u001b[0m\u001b[1;32m      5\u001b[0m   \u001b[0mscheduler\u001b[0m\u001b[0;34m.\u001b[0m\u001b[0mstep\u001b[0m\u001b[0;34m(\u001b[0m\u001b[0;34m)\u001b[0m\u001b[0;34m\u001b[0m\u001b[0;34m\u001b[0m\u001b[0m\n",
            "\u001b[0;31mTypeError\u001b[0m: 'MNIST' object is not callable"
          ]
        }
      ]
    },
    {
      "cell_type": "code",
      "source": [
        "# with mlflow.start_run() as run:\n",
        "#   mlflow.pytorch.log_model(model, \"model\")\n",
        "#   model_path = mlflow.get_artifact_uri(\"model\")\n",
        "#   loaded_torch_model = mlflow.pytorch.load_model(model_path)\n",
        "#   model.eval()\n",
        "#   with torch.no_grad():\n",
        "#     test_datapoints, test_target = next(iter(test_loader))\n",
        "#     pred = model(test_datapoints[0].unsqeeze(0).to(config.DEVICE))\n",
        "#     actual = test_target[0].item()\n",
        "#     predicted = torch.argmax(pred).item()\n",
        "#     print(f\"actual:{actual}, prdicted :{predicted}\")"
      ],
      "metadata": {
        "id": "4ly_88iCwqUU"
      },
      "execution_count": 81,
      "outputs": []
    },
    {
      "cell_type": "code",
      "source": [
        ""
      ],
      "metadata": {
        "id": "2hrwEphi7eXc"
      },
      "execution_count": null,
      "outputs": []
    }
  ],
  "metadata": {
    "interpreter": {
      "hash": "041b736c206caa8195d500d881dbb3bcede296840cbb348f5cc00a1cceaa64a9"
    },
    "kernelspec": {
      "display_name": "Python 3.7.11 (conda)",
      "language": "python",
      "name": "python3"
    },
    "language_info": {
      "codemirror_mode": {
        "name": "ipython",
        "version": 3
      },
      "file_extension": ".py",
      "mimetype": "text/x-python",
      "name": "python",
      "nbconvert_exporter": "python",
      "pygments_lexer": "ipython3",
      "version": "3.7.12"
    },
    "orig_nbformat": 4,
    "colab": {
      "name": "MLFlow-MNIST.ipynb",
      "provenance": [],
      "collapsed_sections": []
    },
    "accelerator": "GPU"
  },
  "nbformat": 4,
  "nbformat_minor": 0
}